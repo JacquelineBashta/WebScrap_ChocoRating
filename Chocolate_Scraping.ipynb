{
 "cells": [
  {
   "cell_type": "markdown",
   "metadata": {},
   "source": [
    "# Chocolate Scraping with Beautiful Soup"
   ]
  },
  {
   "cell_type": "markdown",
   "metadata": {},
   "source": [
    "After eating chocolate bars your whole life, you've decided to go on a quest to find the greatest chocolate bar in the world.\n",
    "\n",
    "You've found a website that has over 1700 reviews of chocolate bars from all around the world. It's linked below the text for the first task.\n",
    "\n",
    "The data is displayed in a table, instead of in a `csv` or `json`. Thankfully, we have the power of BeautifulSoup that will help us transform this webpage into a DataFrame that we can manipulate and analyze.\n",
    "\n",
    "The rating scale is from 1-5, as described in <a href=\"http://flavorsofcacao.com/review_guide.html\">this review guide</a>. A `1` is \"unpleasant\" chocolate, while a `5` is a bar that transcends \"beyond the ordinary limits\".\n",
    "\n",
    "Some questions we thought about when we found this dataset were:\n",
    " - Where are the best cocao beans grown?\n",
    " - Which countries produce the highest-rated bars?\n",
    " - What's the relationship between cocao solids percentage and rating?\n",
    " \n",
    "Can we find a way to answer these questions, or uncover more questions, using BeautifulSoup and Pandas?"
   ]
  },
  {
   "cell_type": "markdown",
   "metadata": {},
   "source": [
    "## Make Some Chocolate Soup"
   ]
  },
  {
   "attachments": {},
   "cell_type": "markdown",
   "metadata": {},
   "source": [
    "- Explore the webpage displayed in the browser. What elements could be useful to scrape here? Which elements do we _not_ want to scrape?\n",
    "https://content.codecademy.com/courses/beautifulsoup/cacao/index.html"
   ]
  },
  {
   "cell_type": "code",
   "execution_count": 98,
   "metadata": {},
   "outputs": [],
   "source": [
    "\n",
    "import requests\n",
    "from bs4 import BeautifulSoup\n",
    "import pandas as pd\n",
    "import numpy as np\n",
    "import matplotlib.pyplot as plt"
   ]
  },
  {
   "attachments": {},
   "cell_type": "markdown",
   "metadata": {},
   "source": [
    "- Make a request to the site to get the raw HTML"
   ]
  },
  {
   "cell_type": "code",
   "execution_count": 3,
   "metadata": {},
   "outputs": [
    {
     "data": {
      "text/plain": [
       "200"
      ]
     },
     "execution_count": 3,
     "metadata": {},
     "output_type": "execute_result"
    }
   ],
   "source": [
    "url =\"https://content.codecademy.com/courses/beautifulsoup/cacao/index.html\"\n",
    "resp= requests.get(url)\n",
    "resp.status_code"
   ]
  },
  {
   "attachments": {},
   "cell_type": "markdown",
   "metadata": {},
   "source": [
    "- Create a BeautifulSoup object called `soup` to traverse this HTML."
   ]
  },
  {
   "cell_type": "code",
   "execution_count": 4,
   "metadata": {},
   "outputs": [],
   "source": [
    "soup= BeautifulSoup(resp.content)"
   ]
  },
  {
   "cell_type": "code",
   "execution_count": null,
   "metadata": {},
   "outputs": [],
   "source": [
    "soup"
   ]
  },
  {
   "attachments": {},
   "cell_type": "markdown",
   "metadata": {},
   "source": [
    "- Scrap the whole rating table to a DataFrame"
   ]
  },
  {
   "cell_type": "code",
   "execution_count": null,
   "metadata": {},
   "outputs": [],
   "source": [
    "columns=[]\n",
    "for i,trs in enumerate(soup.select(\"#cacaoTable tr\")):\n",
    "    row= []\n",
    "    for tds in trs.select(\"td\"):\n",
    "        if i == 0:\n",
    "            columns.append(tds.get_text(strip=True)\n",
    "                           .replace(\"\\n\",\"\")\n",
    "                           .replace(\"\\xa0\",\"\")\n",
    "                           .replace(\" \",\"\")\n",
    "                           .replace(\"(\",\"_\")\n",
    "                           .replace(\")\",\"\")\n",
    "                           .replace(\"-\",\"\")\n",
    "                           )\n",
    "            df=pd.DataFrame(columns=columns)\n",
    "        else:\n",
    "            # append rows in the df\n",
    "            row.append(tds.get_text(strip=True).replace(\"\\xa0\",\"\"))\n",
    "    \n",
    "    if i > 0:\n",
    "        row = np.reshape(row, (1,9))\n",
    "        \n",
    "    df = df.append(pd.DataFrame(row,columns=columns),ignore_index = True)"
   ]
  },
  {
   "cell_type": "code",
   "execution_count": 57,
   "metadata": {},
   "outputs": [
    {
     "data": {
      "text/html": [
       "<div>\n",
       "<style scoped>\n",
       "    .dataframe tbody tr th:only-of-type {\n",
       "        vertical-align: middle;\n",
       "    }\n",
       "\n",
       "    .dataframe tbody tr th {\n",
       "        vertical-align: top;\n",
       "    }\n",
       "\n",
       "    .dataframe thead th {\n",
       "        text-align: right;\n",
       "    }\n",
       "</style>\n",
       "<table border=\"1\" class=\"dataframe\">\n",
       "  <thead>\n",
       "    <tr style=\"text-align: right;\">\n",
       "      <th></th>\n",
       "      <th>Company_Makerifknown</th>\n",
       "      <th>SpecificBeanOriginorBarName</th>\n",
       "      <th>REF</th>\n",
       "      <th>ReviewDate</th>\n",
       "      <th>CocoaPercent</th>\n",
       "      <th>CompanyLocation</th>\n",
       "      <th>Rating</th>\n",
       "      <th>BeanType</th>\n",
       "      <th>BroadBeanOrigin</th>\n",
       "    </tr>\n",
       "  </thead>\n",
       "  <tbody>\n",
       "    <tr>\n",
       "      <th>0</th>\n",
       "      <td>A. Morin</td>\n",
       "      <td>Agua Grande</td>\n",
       "      <td>1876</td>\n",
       "      <td>2016</td>\n",
       "      <td>63%</td>\n",
       "      <td>France</td>\n",
       "      <td>3.75</td>\n",
       "      <td></td>\n",
       "      <td>Sao Tome</td>\n",
       "    </tr>\n",
       "    <tr>\n",
       "      <th>1</th>\n",
       "      <td>A. Morin</td>\n",
       "      <td>Kpime</td>\n",
       "      <td>1676</td>\n",
       "      <td>2015</td>\n",
       "      <td>70%</td>\n",
       "      <td>France</td>\n",
       "      <td>2.75</td>\n",
       "      <td></td>\n",
       "      <td>Togo</td>\n",
       "    </tr>\n",
       "    <tr>\n",
       "      <th>2</th>\n",
       "      <td>A. Morin</td>\n",
       "      <td>Atsane</td>\n",
       "      <td>1676</td>\n",
       "      <td>2015</td>\n",
       "      <td>70%</td>\n",
       "      <td>France</td>\n",
       "      <td>3</td>\n",
       "      <td></td>\n",
       "      <td>Togo</td>\n",
       "    </tr>\n",
       "    <tr>\n",
       "      <th>3</th>\n",
       "      <td>A. Morin</td>\n",
       "      <td>Akata</td>\n",
       "      <td>1680</td>\n",
       "      <td>2015</td>\n",
       "      <td>70%</td>\n",
       "      <td>France</td>\n",
       "      <td>3.5</td>\n",
       "      <td></td>\n",
       "      <td>Togo</td>\n",
       "    </tr>\n",
       "    <tr>\n",
       "      <th>4</th>\n",
       "      <td>A. Morin</td>\n",
       "      <td>Quilla</td>\n",
       "      <td>1704</td>\n",
       "      <td>2015</td>\n",
       "      <td>70%</td>\n",
       "      <td>France</td>\n",
       "      <td>3.5</td>\n",
       "      <td></td>\n",
       "      <td>Peru</td>\n",
       "    </tr>\n",
       "    <tr>\n",
       "      <th>...</th>\n",
       "      <td>...</td>\n",
       "      <td>...</td>\n",
       "      <td>...</td>\n",
       "      <td>...</td>\n",
       "      <td>...</td>\n",
       "      <td>...</td>\n",
       "      <td>...</td>\n",
       "      <td>...</td>\n",
       "      <td>...</td>\n",
       "    </tr>\n",
       "    <tr>\n",
       "      <th>1790</th>\n",
       "      <td>Zotter</td>\n",
       "      <td>Peru</td>\n",
       "      <td>647</td>\n",
       "      <td>2011</td>\n",
       "      <td>70%</td>\n",
       "      <td>Austria</td>\n",
       "      <td>3.75</td>\n",
       "      <td></td>\n",
       "      <td>Peru</td>\n",
       "    </tr>\n",
       "    <tr>\n",
       "      <th>1791</th>\n",
       "      <td>Zotter</td>\n",
       "      <td>Congo</td>\n",
       "      <td>749</td>\n",
       "      <td>2011</td>\n",
       "      <td>65%</td>\n",
       "      <td>Austria</td>\n",
       "      <td>3</td>\n",
       "      <td>Forastero</td>\n",
       "      <td>Congo</td>\n",
       "    </tr>\n",
       "    <tr>\n",
       "      <th>1792</th>\n",
       "      <td>Zotter</td>\n",
       "      <td>Kerala State</td>\n",
       "      <td>749</td>\n",
       "      <td>2011</td>\n",
       "      <td>65%</td>\n",
       "      <td>Austria</td>\n",
       "      <td>3.5</td>\n",
       "      <td>Forastero</td>\n",
       "      <td>India</td>\n",
       "    </tr>\n",
       "    <tr>\n",
       "      <th>1793</th>\n",
       "      <td>Zotter</td>\n",
       "      <td>Kerala State</td>\n",
       "      <td>781</td>\n",
       "      <td>2011</td>\n",
       "      <td>62%</td>\n",
       "      <td>Austria</td>\n",
       "      <td>3.25</td>\n",
       "      <td></td>\n",
       "      <td>India</td>\n",
       "    </tr>\n",
       "    <tr>\n",
       "      <th>1794</th>\n",
       "      <td>Zotter</td>\n",
       "      <td>Brazil, Mitzi Blue</td>\n",
       "      <td>486</td>\n",
       "      <td>2010</td>\n",
       "      <td>65%</td>\n",
       "      <td>Austria</td>\n",
       "      <td>3</td>\n",
       "      <td></td>\n",
       "      <td>Brazil</td>\n",
       "    </tr>\n",
       "  </tbody>\n",
       "</table>\n",
       "<p>1795 rows × 9 columns</p>\n",
       "</div>"
      ],
      "text/plain": [
       "     Company_Makerifknown SpecificBeanOriginorBarName   REF ReviewDate  \\\n",
       "0                A. Morin                 Agua Grande  1876       2016   \n",
       "1                A. Morin                       Kpime  1676       2015   \n",
       "2                A. Morin                      Atsane  1676       2015   \n",
       "3                A. Morin                       Akata  1680       2015   \n",
       "4                A. Morin                      Quilla  1704       2015   \n",
       "...                   ...                         ...   ...        ...   \n",
       "1790               Zotter                        Peru   647       2011   \n",
       "1791               Zotter                       Congo   749       2011   \n",
       "1792               Zotter                Kerala State   749       2011   \n",
       "1793               Zotter                Kerala State   781       2011   \n",
       "1794               Zotter          Brazil, Mitzi Blue   486       2010   \n",
       "\n",
       "     CocoaPercent CompanyLocation Rating   BeanType BroadBeanOrigin  \n",
       "0             63%          France   3.75                   Sao Tome  \n",
       "1             70%          France   2.75                       Togo  \n",
       "2             70%          France      3                       Togo  \n",
       "3             70%          France    3.5                       Togo  \n",
       "4             70%          France    3.5                       Peru  \n",
       "...           ...             ...    ...        ...             ...  \n",
       "1790          70%         Austria   3.75                       Peru  \n",
       "1791          65%         Austria      3  Forastero           Congo  \n",
       "1792          65%         Austria    3.5  Forastero           India  \n",
       "1793          62%         Austria   3.25                      India  \n",
       "1794          65%         Austria      3                     Brazil  \n",
       "\n",
       "[1795 rows x 9 columns]"
      ]
     },
     "execution_count": 57,
     "metadata": {},
     "output_type": "execute_result"
    }
   ],
   "source": [
    "df"
   ]
  },
  {
   "attachments": {},
   "cell_type": "markdown",
   "metadata": {},
   "source": [
    "- Clean the DataFrame"
   ]
  },
  {
   "cell_type": "code",
   "execution_count": 81,
   "metadata": {},
   "outputs": [
    {
     "name": "stdout",
     "output_type": "stream",
     "text": [
      "<class 'pandas.core.frame.DataFrame'>\n",
      "RangeIndex: 1795 entries, 0 to 1794\n",
      "Data columns (total 9 columns):\n",
      " #   Column                       Non-Null Count  Dtype  \n",
      "---  ------                       --------------  -----  \n",
      " 0   Company_Makerifknown         1795 non-null   object \n",
      " 1   SpecificBeanOriginorBarName  1795 non-null   object \n",
      " 2   REF                          1795 non-null   int64  \n",
      " 3   ReviewDate                   1795 non-null   int64  \n",
      " 4   CocoaPercent                 1795 non-null   float64\n",
      " 5   CompanyLocation              1795 non-null   object \n",
      " 6   Rating                       1795 non-null   float64\n",
      " 7   BeanType                     1795 non-null   object \n",
      " 8   BroadBeanOrigin              1795 non-null   object \n",
      "dtypes: float64(2), int64(2), object(5)\n",
      "memory usage: 126.3+ KB\n"
     ]
    }
   ],
   "source": [
    "df.info()"
   ]
  },
  {
   "cell_type": "code",
   "execution_count": 107,
   "metadata": {},
   "outputs": [],
   "source": [
    "df.Rating=pd.to_numeric(df.Rating)"
   ]
  },
  {
   "cell_type": "code",
   "execution_count": 108,
   "metadata": {},
   "outputs": [],
   "source": [
    "df.REF=pd.to_numeric(df.REF)"
   ]
  },
  {
   "cell_type": "code",
   "execution_count": 109,
   "metadata": {},
   "outputs": [],
   "source": [
    "df.ReviewDate=pd.to_datetime(df.ReviewDate, format='%Y-%m-%d').dt.year"
   ]
  },
  {
   "cell_type": "code",
   "execution_count": 110,
   "metadata": {},
   "outputs": [],
   "source": [
    "df.CocoaPercent=df.CocoaPercent.str.replace(\"%\",\"\")"
   ]
  },
  {
   "cell_type": "code",
   "execution_count": 77,
   "metadata": {},
   "outputs": [
    {
     "data": {
      "text/plain": [
       "0"
      ]
     },
     "execution_count": 77,
     "metadata": {},
     "output_type": "execute_result"
    }
   ],
   "source": [
    "(df.CocoaPercent == np.NaN).sum()"
   ]
  },
  {
   "cell_type": "code",
   "execution_count": 111,
   "metadata": {},
   "outputs": [],
   "source": [
    "df.CocoaPercent = pd.to_numeric(df.CocoaPercent,downcast=\"integer\")"
   ]
  },
  {
   "cell_type": "markdown",
   "metadata": {},
   "source": [
    "## How are ratings distributed?"
   ]
  },
  {
   "attachments": {},
   "cell_type": "markdown",
   "metadata": {},
   "source": [
    "- How many terrible chocolate bars are out there? And how many earned a perfect 5? Let's make a histogram of this data."
   ]
  },
  {
   "cell_type": "code",
   "execution_count": 93,
   "metadata": {},
   "outputs": [
    {
     "data": {
      "image/png": "[encoded data removed]",
      "text/plain": [
       "<Figure size 640x480 with 1 Axes>"
      ]
     },
     "metadata": {},
     "output_type": "display_data"
    }
   ],
   "source": [
    "df.Rating.hist(bins=30);"
   ]
  },
  {
   "cell_type": "code",
   "execution_count": 96,
   "metadata": {},
   "outputs": [
    {
     "name": "stdout",
     "output_type": "stream",
     "text": [
      " Percentage of bad reviews is 3.51%\n"
     ]
    }
   ],
   "source": [
    "#terrible mean Rating <2.5\n",
    "print(f\" Percentage of bad reviews is {round(((df.Rating < 2.5).sum()/df.shape[0])*100,2)}%\")"
   ]
  },
  {
   "cell_type": "code",
   "execution_count": 95,
   "metadata": {},
   "outputs": [
    {
     "name": "stdout",
     "output_type": "stream",
     "text": [
      " Percentage of excellent reviews is 0.11%\n"
     ]
    }
   ],
   "source": [
    "print(f\" Percentage of excellent reviews is {round(((df.Rating >= 5).sum()/df.shape[0])*100,2)}%\")"
   ]
  },
  {
   "attachments": {},
   "cell_type": "markdown",
   "metadata": {},
   "source": [
    "- Using Matplotlib, create a histogram of the ratings values:"
   ]
  },
  {
   "cell_type": "code",
   "execution_count": 101,
   "metadata": {},
   "outputs": [
    {
     "data": {
      "image/png": "[encoded data removed]",
      "text/plain": [
       "<Figure size 640x480 with 1 Axes>"
      ]
     },
     "metadata": {},
     "output_type": "display_data"
    }
   ],
   "source": [
    "plt.hist(df.Rating,bins=30);"
   ]
  },
  {
   "cell_type": "markdown",
   "metadata": {},
   "source": [
    "## Which chocolatier makes the best chocolate?"
   ]
  },
  {
   "attachments": {},
   "cell_type": "markdown",
   "metadata": {},
   "source": [
    "- We want to now find the 10 most highly rated chocolatiers. "
   ]
  },
  {
   "cell_type": "code",
   "execution_count": 106,
   "metadata": {},
   "outputs": [
    {
     "name": "stdout",
     "output_type": "stream",
     "text": [
      "<class 'pandas.core.frame.DataFrame'>\n",
      "RangeIndex: 1795 entries, 0 to 1794\n",
      "Data columns (total 9 columns):\n",
      " #   Column                       Non-Null Count  Dtype \n",
      "---  ------                       --------------  ----- \n",
      " 0   Company_Makerifknown         1795 non-null   object\n",
      " 1   SpecificBeanOriginorBarName  1795 non-null   object\n",
      " 2   REF                          1795 non-null   object\n",
      " 3   ReviewDate                   1795 non-null   object\n",
      " 4   CocoaPercent                 1795 non-null   object\n",
      " 5   CompanyLocation              1795 non-null   object\n",
      " 6   Rating                       1795 non-null   object\n",
      " 7   BeanType                     1795 non-null   object\n",
      " 8   BroadBeanOrigin              1795 non-null   object\n",
      "dtypes: object(9)\n",
      "memory usage: 126.3+ KB\n"
     ]
    }
   ],
   "source": [
    "df.info()"
   ]
  },
  {
   "cell_type": "code",
   "execution_count": 134,
   "metadata": {},
   "outputs": [
    {
     "data": {
      "text/html": [
       "<div>\n",
       "<style scoped>\n",
       "    .dataframe tbody tr th:only-of-type {\n",
       "        vertical-align: middle;\n",
       "    }\n",
       "\n",
       "    .dataframe tbody tr th {\n",
       "        vertical-align: top;\n",
       "    }\n",
       "\n",
       "    .dataframe thead th {\n",
       "        text-align: right;\n",
       "    }\n",
       "</style>\n",
       "<table border=\"1\" class=\"dataframe\">\n",
       "  <thead>\n",
       "    <tr style=\"text-align: right;\">\n",
       "      <th></th>\n",
       "      <th>Company_Makerifknown</th>\n",
       "      <th>SpecificBeanOriginorBarName</th>\n",
       "      <th>REF</th>\n",
       "      <th>ReviewDate</th>\n",
       "      <th>CocoaPercent</th>\n",
       "      <th>CompanyLocation</th>\n",
       "      <th>Rating</th>\n",
       "      <th>BeanType</th>\n",
       "      <th>BroadBeanOrigin</th>\n",
       "    </tr>\n",
       "  </thead>\n",
       "  <tbody>\n",
       "    <tr>\n",
       "      <th>0</th>\n",
       "      <td>A. Morin</td>\n",
       "      <td>Agua Grande</td>\n",
       "      <td>1876</td>\n",
       "      <td>2016</td>\n",
       "      <td>63.0</td>\n",
       "      <td>France</td>\n",
       "      <td>3.75</td>\n",
       "      <td></td>\n",
       "      <td>Sao Tome</td>\n",
       "    </tr>\n",
       "    <tr>\n",
       "      <th>1</th>\n",
       "      <td>A. Morin</td>\n",
       "      <td>Kpime</td>\n",
       "      <td>1676</td>\n",
       "      <td>2015</td>\n",
       "      <td>70.0</td>\n",
       "      <td>France</td>\n",
       "      <td>2.75</td>\n",
       "      <td></td>\n",
       "      <td>Togo</td>\n",
       "    </tr>\n",
       "    <tr>\n",
       "      <th>2</th>\n",
       "      <td>A. Morin</td>\n",
       "      <td>Atsane</td>\n",
       "      <td>1676</td>\n",
       "      <td>2015</td>\n",
       "      <td>70.0</td>\n",
       "      <td>France</td>\n",
       "      <td>3.00</td>\n",
       "      <td></td>\n",
       "      <td>Togo</td>\n",
       "    </tr>\n",
       "    <tr>\n",
       "      <th>3</th>\n",
       "      <td>A. Morin</td>\n",
       "      <td>Akata</td>\n",
       "      <td>1680</td>\n",
       "      <td>2015</td>\n",
       "      <td>70.0</td>\n",
       "      <td>France</td>\n",
       "      <td>3.50</td>\n",
       "      <td></td>\n",
       "      <td>Togo</td>\n",
       "    </tr>\n",
       "    <tr>\n",
       "      <th>4</th>\n",
       "      <td>A. Morin</td>\n",
       "      <td>Quilla</td>\n",
       "      <td>1704</td>\n",
       "      <td>2015</td>\n",
       "      <td>70.0</td>\n",
       "      <td>France</td>\n",
       "      <td>3.50</td>\n",
       "      <td></td>\n",
       "      <td>Peru</td>\n",
       "    </tr>\n",
       "  </tbody>\n",
       "</table>\n",
       "</div>"
      ],
      "text/plain": [
       "  Company_Makerifknown SpecificBeanOriginorBarName   REF  ReviewDate  \\\n",
       "0             A. Morin                 Agua Grande  1876        2016   \n",
       "1             A. Morin                       Kpime  1676        2015   \n",
       "2             A. Morin                      Atsane  1676        2015   \n",
       "3             A. Morin                       Akata  1680        2015   \n",
       "4             A. Morin                      Quilla  1704        2015   \n",
       "\n",
       "   CocoaPercent CompanyLocation  Rating BeanType BroadBeanOrigin  \n",
       "0          63.0          France    3.75                 Sao Tome  \n",
       "1          70.0          France    2.75                     Togo  \n",
       "2          70.0          France    3.00                     Togo  \n",
       "3          70.0          France    3.50                     Togo  \n",
       "4          70.0          France    3.50                     Peru  "
      ]
     },
     "execution_count": 134,
     "metadata": {},
     "output_type": "execute_result"
    }
   ],
   "source": [
    "df.head(5)"
   ]
  },
  {
   "cell_type": "code",
   "execution_count": 138,
   "metadata": {},
   "outputs": [
    {
     "data": {
      "text/html": [
       "<div>\n",
       "<style scoped>\n",
       "    .dataframe tbody tr th:only-of-type {\n",
       "        vertical-align: middle;\n",
       "    }\n",
       "\n",
       "    .dataframe tbody tr th {\n",
       "        vertical-align: top;\n",
       "    }\n",
       "\n",
       "    .dataframe thead th {\n",
       "        text-align: right;\n",
       "    }\n",
       "</style>\n",
       "<table border=\"1\" class=\"dataframe\">\n",
       "  <thead>\n",
       "    <tr style=\"text-align: right;\">\n",
       "      <th></th>\n",
       "      <th>Rating</th>\n",
       "      <th>CompanyLocation</th>\n",
       "      <th>CocoaPercent</th>\n",
       "    </tr>\n",
       "    <tr>\n",
       "      <th>Company_Makerifknown</th>\n",
       "      <th></th>\n",
       "      <th></th>\n",
       "      <th></th>\n",
       "    </tr>\n",
       "  </thead>\n",
       "  <tbody>\n",
       "    <tr>\n",
       "      <th>Soma</th>\n",
       "      <td>168.50</td>\n",
       "      <td>Canada</td>\n",
       "      <td>70.914894</td>\n",
       "    </tr>\n",
       "    <tr>\n",
       "      <th>Bonnat</th>\n",
       "      <td>92.75</td>\n",
       "      <td>France</td>\n",
       "      <td>75.555556</td>\n",
       "    </tr>\n",
       "    <tr>\n",
       "      <th>Fresco</th>\n",
       "      <td>88.00</td>\n",
       "      <td>U.S.A.</td>\n",
       "      <td>71.192308</td>\n",
       "    </tr>\n",
       "    <tr>\n",
       "      <th>Pralus</th>\n",
       "      <td>82.00</td>\n",
       "      <td>France</td>\n",
       "      <td>76.200000</td>\n",
       "    </tr>\n",
       "    <tr>\n",
       "      <th>A. Morin</th>\n",
       "      <td>77.75</td>\n",
       "      <td>France</td>\n",
       "      <td>69.086957</td>\n",
       "    </tr>\n",
       "    <tr>\n",
       "      <th>Arete</th>\n",
       "      <td>77.75</td>\n",
       "      <td>U.S.A.</td>\n",
       "      <td>70.636364</td>\n",
       "    </tr>\n",
       "    <tr>\n",
       "      <th>Domori</th>\n",
       "      <td>76.50</td>\n",
       "      <td>Italy</td>\n",
       "      <td>71.500000</td>\n",
       "    </tr>\n",
       "    <tr>\n",
       "      <th>Valrhona</th>\n",
       "      <td>70.00</td>\n",
       "      <td>France</td>\n",
       "      <td>67.523810</td>\n",
       "    </tr>\n",
       "    <tr>\n",
       "      <th>Guittard</th>\n",
       "      <td>69.75</td>\n",
       "      <td>U.S.A.</td>\n",
       "      <td>66.545455</td>\n",
       "    </tr>\n",
       "    <tr>\n",
       "      <th>Hotel Chocolat (Coppeneur)</th>\n",
       "      <td>56.50</td>\n",
       "      <td>U.K.</td>\n",
       "      <td>78.105263</td>\n",
       "    </tr>\n",
       "  </tbody>\n",
       "</table>\n",
       "</div>"
      ],
      "text/plain": [
       "                            Rating CompanyLocation  CocoaPercent\n",
       "Company_Makerifknown                                            \n",
       "Soma                        168.50          Canada     70.914894\n",
       "Bonnat                       92.75          France     75.555556\n",
       "Fresco                       88.00          U.S.A.     71.192308\n",
       "Pralus                       82.00          France     76.200000\n",
       "A. Morin                     77.75          France     69.086957\n",
       "Arete                        77.75          U.S.A.     70.636364\n",
       "Domori                       76.50           Italy     71.500000\n",
       "Valrhona                     70.00          France     67.523810\n",
       "Guittard                     69.75          U.S.A.     66.545455\n",
       "Hotel Chocolat (Coppeneur)   56.50            U.K.     78.105263"
      ]
     },
     "execution_count": 138,
     "metadata": {},
     "output_type": "execute_result"
    }
   ],
   "source": [
    "(\n",
    "    df\n",
    "    .groupby([df.Company_Makerifknown])\n",
    "    .agg({\"Rating\": \"sum\",\"CompanyLocation\":\"max\",\"CocoaPercent\":\"mean\"})\n",
    "    .nlargest(10,\"Rating\")\n",
    ")"
   ]
  },
  {
   "cell_type": "code",
   "execution_count": 140,
   "metadata": {},
   "outputs": [
    {
     "data": {
      "image/png": "[encoded data removed]",
      "text/plain": [
       "<Figure size 640x480 with 2 Axes>"
      ]
     },
     "metadata": {},
     "output_type": "display_data"
    }
   ],
   "source": [
    "(\n",
    "    df\n",
    "    .groupby([df.Company_Makerifknown])\n",
    "    .agg({\"Rating\": \"sum\",\"CompanyLocation\":\"max\",\"CocoaPercent\":\"mean\"})\n",
    "    .nlargest(10,\"Rating\")\n",
    ").hist(bins=20);"
   ]
  },
  {
   "cell_type": "markdown",
   "metadata": {},
   "source": [
    "## Is more cacao better?"
   ]
  },
  {
   "attachments": {},
   "cell_type": "markdown",
   "metadata": {},
   "source": [
    "- We want to see if the chocolate experts tend to rate chocolate bars with higher levels of cacoa to be better than those with lower levels of cacoa."
   ]
  },
  {
   "cell_type": "code",
   "execution_count": 154,
   "metadata": {},
   "outputs": [],
   "source": [
    "df_t=(\n",
    "    df\n",
    "    .groupby([df.CocoaPercent])\n",
    "    .agg({\"Rating\": \"sum\"})\n",
    "    .nlargest(10,\"Rating\")\n",
    ").reset_index()"
   ]
  },
  {
   "cell_type": "code",
   "execution_count": 159,
   "metadata": {},
   "outputs": [
    {
     "data": {
      "text/plain": [
       "Text(0, 0.5, 'Cocoa %')"
      ]
     },
     "execution_count": 159,
     "metadata": {},
     "output_type": "execute_result"
    },
    {
     "data": {
      "image/png": "[encoded data removed]",
      "text/plain": [
       "<Figure size 640x480 with 1 Axes>"
      ]
     },
     "metadata": {},
     "output_type": "display_data"
    }
   ],
   "source": [
    "plt.barh(df_t.CocoaPercent,df_t.Rating)\n",
    "plt.xlabel(\"Rating Sum\")\n",
    "plt.ylabel(\"Cocoa %\")"
   ]
  },
  {
   "cell_type": "code",
   "execution_count": 162,
   "metadata": {},
   "outputs": [
    {
     "data": {
      "text/plain": [
       "<matplotlib.collections.PathCollection at 0x23ac56e9310>"
      ]
     },
     "execution_count": 162,
     "metadata": {},
     "output_type": "execute_result"
    },
    {
     "data": {
      "image/png": "[encoded data removed]",
      "text/plain": [
       "<Figure size 640x480 with 1 Axes>"
      ]
     },
     "metadata": {},
     "output_type": "display_data"
    }
   ],
   "source": [
    "plt.clf()\n",
    "plt.scatter(df.CocoaPercent,df.Rating)"
   ]
  },
  {
   "attachments": {},
   "cell_type": "markdown",
   "metadata": {},
   "source": [
    "- Is there any correlation here? "
   ]
  },
  {
   "cell_type": "code",
   "execution_count": 164,
   "metadata": {},
   "outputs": [
    {
     "data": {
      "image/png": "[encoded data removed]",
      "text/plain": [
       "<Figure size 640x480 with 1 Axes>"
      ]
     },
     "metadata": {},
     "output_type": "display_data"
    }
   ],
   "source": [
    "plt.clf()\n",
    "plt.scatter(df.CocoaPercent,df.Rating)\n",
    "z = np.polyfit(df.CocoaPercent, df.Rating, 1)\n",
    "line_function = np.poly1d(z)\n",
    "plt.plot(df.CocoaPercent, line_function(df.CocoaPercent), \"r-\");"
   ]
  }
 ],
 "metadata": {
  "kernelspec": {
   "display_name": "Python 3",
   "language": "python",
   "name": "python3"
  },
  "language_info": {
   "codemirror_mode": {
    "name": "ipython",
    "version": 3
   },
   "file_extension": ".py",
   "mimetype": "text/x-python",
   "name": "python",
   "nbconvert_exporter": "python",
   "pygments_lexer": "ipython3",
   "version": "3.9.1"
  },
  "vscode": {
   "interpreter": {
    "hash": "81794d4967e6c3204c66dcd87b604927b115b27c00565d3d43f05ba2f3a2cb0d"
   }
  }
 },
 "nbformat": 4,
 "nbformat_minor": 2
}
